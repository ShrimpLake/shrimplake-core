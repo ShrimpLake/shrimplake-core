{
 "cells": [
  {
   "cell_type": "code",
   "execution_count": 0,
   "metadata": {
    "application/vnd.databricks.v1+cell": {
     "cellMetadata": {
      "byteLimit": 2048000,
      "rowLimit": 10000
     },
     "inputWidgets": {},
     "nuid": "f2dc15d4-3ddc-4624-9cd9-f9c7f1a2529d",
     "showTitle": false,
     "tableResultSettingsMap": {},
     "title": ""
    }
   },
   "outputs": [],
   "source": [
    "# 1. 라이브러리 임포트\n",
    "# -----------------------------------------------------------------------------\n",
    "from pyspark.sql import SparkSession\n",
    "from pyspark.sql.functions import *\n",
    "from pyspark.sql.window import Window\n",
    "from sklearn.ensemble import RandomForestRegressor\n",
    "from sklearn.model_selection import train_test_split\n",
    "from sklearn.metrics import mean_squared_error, r2_score\n",
    "from sklearn.preprocessing import StandardScaler, OneHotEncoder\n",
    "from sklearn.compose import ColumnTransformer\n",
    "from sklearn.pipeline import Pipeline\n",
    "import pandas as pd\n",
    "import numpy as np\n"
   ]
  },
  {
   "cell_type": "code",
   "execution_count": 0,
   "metadata": {
    "application/vnd.databricks.v1+cell": {
     "cellMetadata": {
      "byteLimit": 2048000,
      "rowLimit": 10000
     },
     "inputWidgets": {},
     "nuid": "1c974309-ad00-48e0-92bb-f094948317c6",
     "showTitle": false,
     "tableResultSettingsMap": {},
     "title": ""
    }
   },
   "outputs": [
    {
     "output_type": "stream",
     "name": "stdout",
     "output_type": "stream",
     "text": [
      "실버 테이블에서 데이터 로드 중...\n'전체' 보행상태 데이터 제외 중...\n"
     ]
    }
   ],
   "source": [
    "# 2. 데이터 로드 및 시계열 특성 생성\n",
    "# -----------------------------------------------------------------------------\n",
    "print(\"실버 테이블에서 데이터 로드 중...\")\n",
    "df_silver = spark.table(\"postgres_team5_catalog.silver.silver_ped_acid_stats\")\n",
    "\n",
    "# 시계열 윈도우: 지역별, 보행자상태별로 연도 순 정렬\n",
    "time_window = Window.partitionBy(\"gugun_nm\", \"ped_stat\").orderBy(\"searchyear\")\n",
    "\n",
    "#  '전체' 보행상태 데이터 제외 (개별 보행상태별 분석을 위해)\n",
    "print(\"'전체' 보행상태 데이터 제외 중...\")\n",
    "df_silver_filtered = df_silver.filter(col(\"ped_stat\") != \"전체\")\n",
    "\n",
    "# 다음 연도 타겟 변수 생성 (예측할 값)\n",
    "df_gold = (\n",
    "    df_silver\n",
    "    .withColumn(\"next_year_risk_score\", lead(\"risk_score\", 1).over(time_window))\n",
    "    .withColumn(\"next_year_dth_rate\", lead(\"dth_rate\", 1).over(time_window))\n",
    "    .filter(col(\"next_year_risk_score\").isNotNull() & \n",
    "            col(\"next_year_dth_rate\").isNotNull())\n",
    ")"
   ]
  },
  {
   "cell_type": "code",
   "execution_count": 0,
   "metadata": {
    "application/vnd.databricks.v1+cell": {
     "cellMetadata": {
      "byteLimit": 2048000,
      "rowLimit": 10000
     },
     "inputWidgets": {},
     "nuid": "09f50174-8cf0-49ec-8901-f1c81e7ded3a",
     "showTitle": false,
     "tableResultSettingsMap": {},
     "title": ""
    }
   },
   "outputs": [
    {
     "output_type": "stream",
     "name": "stdout",
     "output_type": "stream",
     "text": [
      "머신러닝용 데이터 준비 중...\n"
     ]
    },
    {
     "output_type": "stream",
     "name": "stderr",
     "output_type": "stream",
     "text": [
      "/databricks/spark/python/pyspark/sql/pandas/utils.py:109: UserWarning: The conversion of DecimalType columns is inefficient and may take a long time. Column names: [dth_rate, injpsn_rate, occrrnc_cnt_change_rate, next_year_dth_rate] If those columns are not necessary, you may consider dropping them or converting to primitive types before the conversion.\n  warnings.warn(\n"
     ]
    }
   ],
   "source": [
    "# 3. 머신러닝용 데이터 준비\n",
    "# -----------------------------------------------------------------------------\n",
    "print(\"머신러닝용 데이터 준비 중...\")\n",
    "# 실제 존재하는 컬럼만 선택\n",
    "ml_data = df_gold.select(\n",
    "    \"searchyear\", \"gugun_nm\", \"ped_stat\", \n",
    "    \"occrrnc_cnt\", \"dth_cnt\", \"injpsn_cnt\", \"dth_rate\", \"injpsn_rate\", \n",
    "    \"prev_year_occrrnc_cnt\", \"occrrnc_cnt_change_rate\", \"risk_score\",\n",
    "    \"next_year_risk_score\", \"next_year_dth_rate\"\n",
    ").toPandas()\n",
    "# 컬럼들 가져오고 '전체'를 여기서 삭제. "
   ]
  },
  {
   "cell_type": "code",
   "execution_count": 0,
   "metadata": {
    "application/vnd.databricks.v1+cell": {
     "cellMetadata": {
      "byteLimit": 2048000,
      "rowLimit": 10000
     },
     "inputWidgets": {},
     "nuid": "92ea03bc-94fe-4436-9c4e-0d677fc2bea5",
     "showTitle": false,
     "tableResultSettingsMap": {},
     "title": ""
    }
   },
   "outputs": [],
   "source": [
    "# 4. 피처 엔지니어링\n",
    "# -----------------------------------------------------------------------------\n",
    "# 사고 심각도 및 연도 특성 추가\n",
    "# ml_data['accident_severity'] = ml_data['dth_cnt'] / ml_data['occrrnc_cnt'].where(ml_data['occrrnc_cnt'] > 0, 1)\n",
    "# ml_data['searchyear'] = pd.to_numeric(ml_data['searchyear'])\n",
    "# ml_data['year_squared'] = ml_data['searchyear'] ** 2  # 제거해서 성능 비교\n",
    "\n",
    "# 타겟 변수 로그 변환 (분포 정규화)\n",
    "ml_data['target_risk_score_log'] = np.log1p(ml_data['next_year_risk_score'])\n",
    "ml_data['target_dth_rate_log'] = np.log1p(pd.to_numeric(ml_data['next_year_dth_rate']))\n"
   ]
  },
  {
   "cell_type": "code",
   "execution_count": 0,
   "metadata": {
    "application/vnd.databricks.v1+cell": {
     "cellMetadata": {
      "byteLimit": 2048000,
      "rowLimit": 10000
     },
     "inputWidgets": {},
     "nuid": "2566c6a9-b755-4fec-ba13-fe5ff3dbb50b",
     "showTitle": false,
     "tableResultSettingsMap": {},
     "title": ""
    }
   },
   "outputs": [
    {
     "output_type": "stream",
     "name": "stdout",
     "output_type": "stream",
     "text": [
      "데이터 준비 및 전처리 중...\n"
     ]
    }
   ],
   "source": [
    "# 5. 데이터 준비 및 전처리\n",
    "# -----------------------------------------------------------------------------\n",
    "print(\"데이터 준비 및 전처리 중...\")\n",
    "\n",
    "# 피처 정의\n",
    "categorical_features = ['gugun_nm', 'ped_stat']\n",
    "numerical_features = ['searchyear', 'occrrnc_cnt', 'dth_cnt', 'injpsn_cnt',\n",
    "                     'dth_rate', 'injpsn_rate', 'prev_year_occrrnc_cnt', \n",
    "                     'occrrnc_cnt_change_rate', 'risk_score', \n",
    "                     ]  # year_squared 제거'accident_severity'\n",
    "\n",
    "X = ml_data[categorical_features + numerical_features]\n",
    "y_risk_score = ml_data['target_risk_score_log'] # 타겟변수 선택 \n",
    "y_dth_rate = ml_data['target_dth_rate_log']\n",
    "\n",
    "# 데이터 분할\n",
    "X_train, X_test, y_risk_train, y_risk_test, y_dth_train, y_dth_test = train_test_split(\n",
    "    X, y_risk_score, y_dth_rate, test_size=0.2, random_state=42\n",
    ")\n",
    "\n",
    "# 전처리 파이프라인\n",
    "preprocessor = ColumnTransformer([\n",
    "    ('num', StandardScaler(), numerical_features),\n",
    "    ('cat', OneHotEncoder(handle_unknown='ignore', sparse=False), categorical_features)\n",
    "])\n",
    "# # 원본: [10, 100, 1000]\n",
    "# 표준화 후: [-1.0, 0, 1.0]\n",
    "# '서울' → [1, 0, 0]\n",
    "# '부산' → [0, 1, 0]\n",
    "# '대구' → [0, 0, 1]"
   ]
  },
  {
   "cell_type": "code",
   "execution_count": 0,
   "metadata": {
    "application/vnd.databricks.v1+cell": {
     "cellMetadata": {
      "byteLimit": 2048000,
      "rowLimit": 10000
     },
     "inputWidgets": {},
     "nuid": "c8ce7c94-d910-4277-bca6-10a21ee54aa8",
     "showTitle": false,
     "tableResultSettingsMap": {},
     "title": ""
    }
   },
   "outputs": [
    {
     "output_type": "stream",
     "name": "stdout",
     "output_type": "stream",
     "text": [
      "\n위험점수 예측 모델 학습 중...\n"
     ]
    },
    {
     "output_type": "display_data",
     "data": {
      "application/vnd.jupyter.widget-view+json": {
       "model_id": "b923b75072674a2e9512aef6e4a671c6",
       "version_major": 2,
       "version_minor": 0
      },
      "text/plain": [
       "Uploading artifacts:   0%|          | 0/5 [00:00<?, ?it/s]"
      ]
     },
     "metadata": {},
     "output_type": "display_data"
    },
    {
     "output_type": "stream",
     "name": "stdout",
     "output_type": "stream",
     "text": [
      "위험점수 예측 모델 성능 - RMSE: 153.86, R²: 0.9944\n"
     ]
    }
   ],
   "source": [
    "# 5-1. 위험점수 예측 모델\n",
    "# -----------------------------------------------------------------------------\n",
    "print(\"\\n위험점수 예측 모델 학습 중...\")\n",
    "risk_score_model = Pipeline([\n",
    "    ('preprocessor', preprocessor),\n",
    "    ('regressor', RandomForestRegressor(n_estimators=100, max_depth=15, random_state=42)) # 랜덤포레스트 모델로.\n",
    "])\n",
    "risk_score_model.fit(X_train, y_risk_train)\n",
    "# n_estimators=100: 트리 개수\n",
    "# max_depth=15: 트리 깊이 제한\n",
    "\n",
    "\n",
    "# 위험점수 모델 평가\n",
    "risk_pred_log = risk_score_model.predict(X_test)\n",
    "risk_pred_orig = np.expm1(risk_pred_log)\n",
    "risk_test_orig = np.expm1(y_risk_test)\n",
    "risk_score_rmse = np.sqrt(mean_squared_error(risk_test_orig, risk_pred_orig))\n",
    "risk_score_r2 = r2_score(risk_test_orig, risk_pred_orig)\n",
    "\n",
    "print(f\"위험점수 예측 모델 성능 - RMSE: {risk_score_rmse:.2f}, R²: {risk_score_r2:.4f}\")\n"
   ]
  },
  {
   "cell_type": "code",
   "execution_count": 0,
   "metadata": {
    "application/vnd.databricks.v1+cell": {
     "cellMetadata": {
      "byteLimit": 2048000,
      "rowLimit": 10000
     },
     "inputWidgets": {},
     "nuid": "ec086c83-3adc-4d20-a2c3-c2a4da6797c2",
     "showTitle": false,
     "tableResultSettingsMap": {},
     "title": ""
    }
   },
   "outputs": [
    {
     "output_type": "stream",
     "name": "stdout",
     "output_type": "stream",
     "text": [
      "\n사망률 예측 모델 학습 중...\n"
     ]
    },
    {
     "output_type": "display_data",
     "data": {
      "application/vnd.jupyter.widget-view+json": {
       "model_id": "5c943d07067648beac0989045bc5bb7f",
       "version_major": 2,
       "version_minor": 0
      },
      "text/plain": [
       "Uploading artifacts:   0%|          | 0/5 [00:00<?, ?it/s]"
      ]
     },
     "metadata": {},
     "output_type": "display_data"
    },
    {
     "output_type": "stream",
     "name": "stdout",
     "output_type": "stream",
     "text": [
      "사망률 예측 모델 성능 - RMSE: 0.3476, R²: 0.7015\n"
     ]
    }
   ],
   "source": [
    "# 5-2. 사망률 예측 모델\n",
    "# -----------------------------------------------------------------------------\n",
    "print(\"\\n사망률 예측 모델 학습 중...\")\n",
    "dth_rate_model = Pipeline([\n",
    "    ('preprocessor', preprocessor),\n",
    "    ('regressor', RandomForestRegressor(n_estimators=100, max_depth=15, random_state=42))\n",
    "])\n",
    "dth_rate_model.fit(X_train, y_dth_train)\n",
    "\n",
    "# 사망률 모델 평가\n",
    "dth_pred_log = dth_rate_model.predict(X_test)\n",
    "dth_pred_orig = np.expm1(dth_pred_log)\n",
    "dth_test_orig = np.expm1(y_dth_test)\n",
    "dth_rate_rmse = np.sqrt(mean_squared_error(dth_test_orig, dth_pred_orig))\n",
    "dth_rate_r2 = r2_score(dth_test_orig, dth_pred_orig)\n",
    "\n",
    "print(f\"사망률 예측 모델 성능 - RMSE: {dth_rate_rmse:.4f}, R²: {dth_rate_r2:.4f}\")\n"
   ]
  },
  {
   "cell_type": "code",
   "execution_count": 0,
   "metadata": {
    "application/vnd.databricks.v1+cell": {
     "cellMetadata": {
      "byteLimit": 2048000,
      "rowLimit": 10000
     },
     "inputWidgets": {},
     "nuid": "53f6e45a-2e6c-4da9-91d5-f6695fc97923",
     "showTitle": false,
     "tableResultSettingsMap": {},
     "title": ""
    }
   },
   "outputs": [
    {
     "output_type": "stream",
     "name": "stdout",
     "output_type": "stream",
     "text": [
      "\n전체 데이터 예측 중...\n최종 골드 테이블 구성 중...\n'전체' 데이터 제거 후 레코드 수: 5,070\n"
     ]
    }
   ],
   "source": [
    "# 6. 골드 테이블 생성\n",
    "# -----------------------------------------------------------------------------\n",
    "\n",
    "# 6-1. 전체 데이터 예측\n",
    "# -----------------------------------------------------------------------------\n",
    "print(\"\\n전체 데이터 예측 중...\")\n",
    "# 위험점수와 사망률 예측\n",
    "risk_score_pred_log = risk_score_model.predict(X)\n",
    "dth_rate_pred_log = dth_rate_model.predict(X)\n",
    "\n",
    "# 예측 결과를 원래 스케일로 변환하여 추가\n",
    "ml_data['risk_score_pred'] = np.round(np.expm1(risk_score_pred_log)).astype(int)  # 정수로 변환\n",
    "ml_data['dth_rate_pred'] = np.round(np.expm1(dth_rate_pred_log), 2)\n",
    "\n",
    "\n",
    "# 6-2. 최종 골드 테이블 구성\n",
    "# -----------------------------------------------------------------------------\n",
    "print(\"최종 골드 테이블 구성 중...\")\n",
    "#가치가 있는 컬럼만 선택\n",
    "gold_columns = [\n",
    "    'searchyear', 'gugun_nm', 'ped_stat',\n",
    "    'occrrnc_cnt', 'dth_cnt', 'injpsn_cnt', 'dth_rate', 'risk_score',\n",
    "    'risk_score_pred', 'dth_rate_pred'\n",
    "]\n",
    "\n",
    "# 최종 골드 테이블 데이터 프레임 생성\n",
    "final_gold_data = ml_data[gold_columns]\n",
    "\n",
    "# '전체' 보행상태 데이터가 혹시 남아있다면 제거\n",
    "final_gold_data = final_gold_data[final_gold_data['ped_stat'] != '전체']\n",
    "print(f\"'전체' 데이터 제거 후 레코드 수: {final_gold_data.shape[0]:,}\")\n"
   ]
  },
  {
   "cell_type": "code",
   "execution_count": 0,
   "metadata": {
    "application/vnd.databricks.v1+cell": {
     "cellMetadata": {
      "byteLimit": 2048000,
      "rowLimit": 10000
     },
     "inputWidgets": {},
     "nuid": "148cf5b7-d07d-487a-8662-5fe28d548ee9",
     "showTitle": false,
     "tableResultSettingsMap": {},
     "title": ""
    }
   },
   "outputs": [
    {
     "output_type": "stream",
     "name": "stdout",
     "output_type": "stream",
     "text": [
      "골드 테이블 저장 중...\n"
     ]
    }
   ],
   "source": [
    "# 7. 골드 테이블 저장\n",
    "# -----------------------------------------------------------------------------\n",
    "print(\"골드 테이블 저장 중...\")\n",
    "gold_table = spark.createDataFrame(final_gold_data)\n",
    "\n",
    "# 테이블 저장 (스키마 덮어쓰기 옵션 포함)\n",
    "gold_table.write.mode(\"overwrite\").option(\"overwriteSchema\", \"true\").saveAsTable(\n",
    "    \"1dt_team5_databricks_traffic.gold_managed.gold_ped_acid_pred\"\n",
    ")"
   ]
  },
  {
   "cell_type": "code",
   "execution_count": 0,
   "metadata": {
    "application/vnd.databricks.v1+cell": {
     "cellMetadata": {
      "byteLimit": 2048000,
      "rowLimit": 10000
     },
     "inputWidgets": {},
     "nuid": "b17eea8c-19e9-411b-ae46-6a98b27cabfd",
     "showTitle": false,
     "tableResultSettingsMap": {},
     "title": ""
    }
   },
   "outputs": [],
   "source": []
  }
 ],
 "metadata": {
  "application/vnd.databricks.v1+notebook": {
   "computePreferences": null,
   "dashboards": [
    {
     "elements": [],
     "globalVars": {},
     "guid": "",
     "layoutOption": {
      "grid": true,
      "stack": true
     },
     "nuid": "0e694971-29ad-4145-9b67-7c2a1820be88",
     "origId": 4813598018384127,
     "title": "Untitled",
     "version": "DashboardViewV1",
     "width": 1024
    }
   ],
   "environmentMetadata": {
    "base_environment": "",
    "environment_version": "2"
   },
   "inputWidgetPreferences": null,
   "language": "python",
   "notebookMetadata": {
    "pythonIndentUnit": 4
   },
   "notebookName": "(재훈)골드 만들기silver_ped_acid_stats",
   "widgets": {}
  },
  "language_info": {
   "name": "python"
  }
 },
 "nbformat": 4,
 "nbformat_minor": 0
}